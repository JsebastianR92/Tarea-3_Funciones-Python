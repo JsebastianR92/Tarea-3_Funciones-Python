{
 "cells": [
  {
   "cell_type": "markdown",
   "metadata": {},
   "source": [
    "# Sebastián Rodríguez\n",
    "### Carnet: 20003076\n",
    "\n",
    "    \n",
    "                    #  Tarea # 3: Funciones en Python\n"
   ]
  },
  {
   "cell_type": "markdown",
   "metadata": {},
   "source": [
    "Funciones en Python\n",
    "\n",
    "Parametros posicionales\n",
    "\n",
    "Parametros nombrados\n",
    "\n",
    "Retorno de multiples valores\n",
    "\n",
    "Funciones como objetos y como parametros de otras funciones\n",
    "\n",
    "Funciones anonimas o lambda"
   ]
  },
  {
   "cell_type": "markdown",
   "metadata": {},
   "source": [
    "Funciones en Python\n",
    "\n",
    "\n",
    "Se refiere a un código de bloque de código que se define bajo un nombre y un parámetro de entrada. Al ejecutarla sigue una operación ya definida por nosotros."
   ]
  },
  {
   "cell_type": "code",
   "execution_count": 2,
   "metadata": {},
   "outputs": [
    {
     "name": "stdout",
     "output_type": "stream",
     "text": [
      "esta es una función\n"
     ]
    }
   ],
   "source": [
    "def imprimir():\n",
    "    print (\"esta es una función\")\n",
    "    \n",
    "imprimir()"
   ]
  },
  {
   "cell_type": "markdown",
   "metadata": {},
   "source": [
    "Parámetros posicionales\n",
    "\n",
    "\n",
    "Son todos aquellos argumentos que dependen del orden con el que son llamados."
   ]
  },
  {
   "cell_type": "code",
   "execution_count": 3,
   "metadata": {
    "scrolled": true
   },
   "outputs": [
    {
     "data": {
      "text/plain": [
       "'Este es un parametro posicional'"
      ]
     },
     "execution_count": 3,
     "metadata": {},
     "output_type": "execute_result"
    }
   ],
   "source": [
    "def paramposicional():\n",
    "    mensaje = \"Este es un parametro posicional\"\n",
    "    return mensaje\n",
    "\n",
    "paramposicional()"
   ]
  },
  {
   "cell_type": "markdown",
   "metadata": {},
   "source": [
    "Parámetro nombrado\n",
    "\n",
    "\n",
    "Son los parámetros que no dependen del nombre, únicamente de como se lo asignamos nosotros."
   ]
  },
  {
   "cell_type": "code",
   "execution_count": 9,
   "metadata": {},
   "outputs": [
    {
     "name": "stdout",
     "output_type": "stream",
     "text": [
      "10\n"
     ]
    }
   ],
   "source": [
    "def paramnombrado (n,b):\n",
    "    print (n*b)\n",
    "    return\n",
    "\n",
    "paramnombrado(n=5,b=2)"
   ]
  },
  {
   "cell_type": "markdown",
   "metadata": {},
   "source": [
    "Retorno de multiples valores\n",
    "\n",
    "\n",
    "Se refiere a fujnciones que devuelven diferentes resultados con una misma iteración de una función."
   ]
  },
  {
   "cell_type": "code",
   "execution_count": 10,
   "metadata": {},
   "outputs": [
    {
     "name": "stdout",
     "output_type": "stream",
     "text": [
      "2 3 4\n"
     ]
    }
   ],
   "source": [
    "def multiple (a,b,c):\n",
    "    print (a,b,c)\n",
    "    return\n",
    "\n",
    "multiple(a=2,b=3,c=4)"
   ]
  },
  {
   "cell_type": "markdown",
   "metadata": {},
   "source": [
    "Funciones como objetos y como parametros de otras funciones\n",
    "\n",
    "Se refiere a funciones que utilizan parámetros de una función (otra definición) para utilizarse en otra función (otra definición)"
   ]
  },
  {
   "cell_type": "code",
   "execution_count": 12,
   "metadata": {},
   "outputs": [
    {
     "name": "stdout",
     "output_type": "stream",
     "text": [
      "el carnet 20003076 pertenece a: sebas\n"
     ]
    }
   ],
   "source": [
    "nombre = \"sebas\"\n",
    "\n",
    "def prifuncion(nombre):\n",
    "    nombre = \"sebas\"\n",
    "    return\n",
    "\n",
    "def carnet(prifuncion):\n",
    "    print (\"el carnet 20003076 pertenece a: \"+nombre)\n",
    "    return\n",
    "    \n",
    "carnet (prifuncion)"
   ]
  },
  {
   "cell_type": "markdown",
   "metadata": {},
   "source": [
    "Funciones anonimas o lambda\n",
    "\n",
    "Son llamadas funciones ràpidas ya que solo tienen un return el cual retorna los parámetros que ingresamos a la definición."
   ]
  },
  {
   "cell_type": "code",
   "execution_count": 13,
   "metadata": {},
   "outputs": [
    {
     "data": {
      "text/plain": [
       "12"
      ]
     },
     "execution_count": 13,
     "metadata": {},
     "output_type": "execute_result"
    }
   ],
   "source": [
    "def ejemlambda (a,b):\n",
    "    return a+b\n",
    "\n",
    "ejemlambda(8,4)"
   ]
  },
  {
   "cell_type": "code",
   "execution_count": null,
   "metadata": {},
   "outputs": [],
   "source": []
  }
 ],
 "metadata": {
  "kernelspec": {
   "display_name": "Python 3",
   "language": "python",
   "name": "python3"
  },
  "language_info": {
   "codemirror_mode": {
    "name": "ipython",
    "version": 3
   },
   "file_extension": ".py",
   "mimetype": "text/x-python",
   "name": "python",
   "nbconvert_exporter": "python",
   "pygments_lexer": "ipython3",
   "version": "3.7.4"
  }
 },
 "nbformat": 4,
 "nbformat_minor": 2
}
